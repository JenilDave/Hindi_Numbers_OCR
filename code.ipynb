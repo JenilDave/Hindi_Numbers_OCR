{
  "nbformat": 4,
  "nbformat_minor": 0,
  "metadata": {
    "colab": {
      "name": "code.ipynb",
      "provenance": [],
      "collapsed_sections": [],
      "include_colab_link": true
    },
    "kernelspec": {
      "display_name": "Python 3",
      "name": "python3"
    },
    "language_info": {
      "name": "python"
    }
  },
  "cells": [
    {
      "cell_type": "markdown",
      "metadata": {
        "id": "view-in-github",
        "colab_type": "text"
      },
      "source": [
        "<a href=\"https://colab.research.google.com/github/JenilDave/Hindi_Numbers_OCR/blob/main/code.ipynb\" target=\"_parent\"><img src=\"https://colab.research.google.com/assets/colab-badge.svg\" alt=\"Open In Colab\"/></a>"
      ]
    },
    {
      "cell_type": "code",
      "metadata": {
        "colab": {
          "base_uri": "https://localhost:8080/"
        },
        "id": "hWL5VFODJtdb",
        "outputId": "d62da290-1a40-4221-af73-0736e072af42"
      },
      "source": [
        "import pandas as pd\n",
        "import numpy as np\n",
        "import tensorflow as tf\n",
        "from tensorflow import keras\n",
        "import cv2\n",
        "import matplotlib.pyplot as plt\n",
        "from google.colab import drive\n",
        "drive.mount('/content/drive',force_remount=True)"
      ],
      "execution_count": 1,
      "outputs": [
        {
          "output_type": "stream",
          "name": "stdout",
          "text": [
            "Mounted at /content/drive\n"
          ]
        }
      ]
    },
    {
      "cell_type": "code",
      "metadata": {
        "id": "lMz3tAQ6GgPX"
      },
      "source": [
        "def store_in_text(no_of_imgs):\n",
        "  X = []\n",
        "  with open(\"/content/drive/MyDrive/Colab Notebooks/Project/Dataset/X_file2.txt\",\"w+\") as f:\n",
        "    for i in range(1,no_of_imgs+1):\n",
        "      #path =\"/content/drive/MyDrive/Colab Notebooks/Project/Dataset/all_number/  ({j}).jpg\".format(j=i)\n",
        "      path = \"/content/drive/MyDrive/Colab Notebooks/Project/Dataset/numbers/ ({j}).png\".format(j=i)\n",
        "      print(\"Please wait...\")\n",
        "      img = cv2.imread(path,cv2.IMREAD_GRAYSCALE)\n",
        "      f.write(str(img.tolist())+\"\\n\")\n",
        "      print(i)\n",
        "      X.append(img)\n",
        "    f.close()\n",
        "    print(\"DONE\")\n",
        "  return X"
      ],
      "execution_count": 2,
      "outputs": []
    },
    {
      "cell_type": "code",
      "metadata": {
        "id": "cegogS5LHwuX"
      },
      "source": [
        "def read_from_txt(filename):\n",
        "  import ast\n",
        "  df = pd.read_csv(\"drive/MyDrive/Colab Notebooks/Project/Dataset/{filename}\".format(filename=filename),sep=\"\\n\",names=[\"X\"])\n",
        "  print(df.shape)\n",
        "  print(type(df[\"X\"][0]))\n",
        "  s = df.X.apply(lambda x: np.array(ast.literal_eval(x[0:])))\n",
        "  return s"
      ],
      "execution_count": 3,
      "outputs": []
    },
    {
      "cell_type": "code",
      "metadata": {
        "colab": {
          "base_uri": "https://localhost:8080/",
          "height": 483
        },
        "id": "SyvDIlFWKzYw",
        "outputId": "76b02257-1e9b-477e-936e-0c67b294e3af"
      },
      "source": [
        "y = pd.read_csv(\"drive/MyDrive/Colab Notebooks/Project/Dataset/y_true.txt\",sep=\"\\n\",names=[\"Y\"])\n",
        "#y = pd.read_csv(\"drive/MyDrive/Project/Dataset/aaa.txt\",sep=\"\\n\")\n",
        "#X = store_in_text(17000) #19880 for mixed set\n",
        "X = read_from_txt(\"X_file2.txt\")\n",
        "print(X[2])\n",
        "print(\"file is read\")\n",
        "plt.matshow(np.array(X[2]))\n",
        "print(y.T[2])"
      ],
      "execution_count": 5,
      "outputs": [
        {
          "output_type": "stream",
          "name": "stdout",
          "text": [
            "(17000, 1)\n",
            "<class 'str'>\n",
            "[[0 0 0 ... 0 0 0]\n",
            " [0 0 0 ... 0 0 0]\n",
            " [0 0 0 ... 1 0 0]\n",
            " ...\n",
            " [0 0 0 ... 0 0 0]\n",
            " [0 0 0 ... 0 0 0]\n",
            " [0 0 0 ... 0 0 0]]\n",
            "file is read\n",
            "Y    0\n",
            "Name: 2, dtype: int64\n"
          ]
        },
        {
          "output_type": "display_data",
          "data": {
            "image/png": "[encoded data removed]",
            "text/plain": [
              "<Figure size 288x288 with 1 Axes>"
            ]
          },
          "metadata": {
            "needs_background": "light"
          }
        }
      ]
    },
    {
      "cell_type": "code",
      "metadata": {
        "id": "Qb1FwlktdgLg"
      },
      "source": [
        "y_dict = {\n",
        "    0:'०',\n",
        "    1:'१',\n",
        "    2:'२',\n",
        "    3:'३',\n",
        "    4:'४',\n",
        "    5:'५',\n",
        "    6:'६',\n",
        "    7:'७',\n",
        "    8:'८',\n",
        "    9:'९',\n",
        "}"
      ],
      "execution_count": 6,
      "outputs": []
    },
    {
      "cell_type": "code",
      "metadata": {
        "colab": {
          "base_uri": "https://localhost:8080/"
        },
        "id": "YudP6T6I4zVX",
        "outputId": "2f85b63b-23dc-4b79-c069-e6ee60c44758"
      },
      "source": [
        "X_data = X.values\n",
        "y_data = (np.array(y)).flatten()\n",
        "print(X_data[1254])"
      ],
      "execution_count": 7,
      "outputs": [
        {
          "output_type": "stream",
          "name": "stdout",
          "text": [
            "[[0 0 0 ... 0 0 0]\n",
            " [0 0 0 ... 0 0 0]\n",
            " [0 0 0 ... 0 0 0]\n",
            " ...\n",
            " [0 0 0 ... 2 0 0]\n",
            " [0 0 0 ... 0 0 0]\n",
            " [0 0 0 ... 0 0 0]]\n"
          ]
        }
      ]
    },
    {
      "cell_type": "code",
      "metadata": {
        "colab": {
          "base_uri": "https://localhost:8080/",
          "height": 275
        },
        "id": "aFvU1zIn-6TY",
        "outputId": "090e6248-6ca1-49fa-ef02-6b412dfe38a5"
      },
      "source": [
        "plt.matshow(X_data[1254])\n",
        "X_data = np.array(np.array(X_data.tolist()))"
      ],
      "execution_count": 8,
      "outputs": [
        {
          "output_type": "display_data",
          "data": {
            "image/png": "[encoded data removed]",
            "text/plain": [
              "<Figure size 288x288 with 1 Axes>"
            ]
          },
          "metadata": {
            "needs_background": "light"
          }
        }
      ]
    },
    {
      "cell_type": "markdown",
      "metadata": {
        "id": "aEFDIPwBARZs"
      },
      "source": [
        "All Data importing is over, now X_data consists of 32x32 pixels of Images and y_data has label. Thus we are good to go for model application.\n"
      ]
    },
    {
      "cell_type": "code",
      "metadata": {
        "colab": {
          "base_uri": "https://localhost:8080/"
        },
        "id": "MQCnF1z5Bf3C",
        "outputId": "758909b3-a3c9-4839-b27b-c13da4a99167"
      },
      "source": [
        "unique,count = np.unique(y_data,return_counts=True)\n",
        "print(unique,\"\\n\",count)\n",
        "\n",
        "X_train_rs = X_data.copy()\n",
        "#X_train_rs = X_train_rs.reshape(len(X_train_rs),28*28)\n",
        "X_train_rs = X_train_rs.reshape(len(X_train_rs),32*32)\n",
        "X_train_rs =X_train_rs/255"
      ],
      "execution_count": 9,
      "outputs": [
        {
          "output_type": "stream",
          "name": "stdout",
          "text": [
            "[0 1 2 3 4 5 6 7 8 9] \n",
            " [1700 1700 1700 1700 1700 1700 1700 1700 1700 1700]\n"
          ]
        }
      ]
    },
    {
      "cell_type": "code",
      "metadata": {
        "id": "MPpY-pzKAklm"
      },
      "source": [
        "from sklearn.model_selection import train_test_split\n",
        "X_train,X_test,y_train,y_test = train_test_split(X_train_rs,y_data,test_size=0.2,random_state=42)"
      ],
      "execution_count": 10,
      "outputs": []
    },
    {
      "cell_type": "code",
      "metadata": {
        "colab": {
          "base_uri": "https://localhost:8080/"
        },
        "id": "tJgOMJ5uG0z3",
        "outputId": "0b6aea71-9f0e-4728-bc28-0c75dcbe5b63"
      },
      "source": [
        "unique,count = np.unique(y_train,return_counts=True)\n",
        "print(unique,\"\\n\",count)\n",
        "y_train[23:70]"
      ],
      "execution_count": 11,
      "outputs": [
        {
          "output_type": "stream",
          "name": "stdout",
          "text": [
            "[0 1 2 3 4 5 6 7 8 9] \n",
            " [1364 1376 1359 1350 1364 1361 1345 1357 1380 1344]\n"
          ]
        },
        {
          "output_type": "execute_result",
          "data": {
            "text/plain": [
              "array([2, 8, 1, 7, 3, 6, 2, 8, 4, 5, 6, 4, 8, 2, 3, 5, 3, 9, 2, 8, 5, 9,\n",
              "       1, 5, 6, 1, 2, 7, 4, 3, 3, 5, 4, 3, 9, 5, 5, 2, 3, 7, 5, 0, 2, 3,\n",
              "       1, 7, 7])"
            ]
          },
          "metadata": {},
          "execution_count": 11
        }
      ]
    },
    {
      "cell_type": "code",
      "metadata": {
        "colab": {
          "base_uri": "https://localhost:8080/"
        },
        "id": "i5Crlzv_ZYXl",
        "outputId": "98c00ede-cb13-4da3-ca78-1cb9d7a9d9fc"
      },
      "source": [
        "X_train.shape"
      ],
      "execution_count": 12,
      "outputs": [
        {
          "output_type": "execute_result",
          "data": {
            "text/plain": [
              "(13600, 1024)"
            ]
          },
          "metadata": {},
          "execution_count": 12
        }
      ]
    },
    {
      "cell_type": "markdown",
      "metadata": {
        "id": "q2r0DSM8JAou"
      },
      "source": [
        "X_train,X_test has flattened array, y_train and y_test has respective results.\n",
        "Only use these 4 variables to work with any kind of data processing. Donot use other variables and donot delete any section of code."
      ]
    },
    {
      "cell_type": "code",
      "metadata": {
        "colab": {
          "base_uri": "https://localhost:8080/"
        },
        "id": "IYY2Hb4bYTgh",
        "outputId": "c1a6a49f-2142-4388-88d8-d7ba6519b856"
      },
      "source": [
        "#Check Normalized Values\n",
        "X_train"
      ],
      "execution_count": 14,
      "outputs": [
        {
          "output_type": "execute_result",
          "data": {
            "text/plain": [
              "array([[0., 0., 0., ..., 0., 0., 0.],\n",
              "       [0., 0., 0., ..., 0., 0., 0.],\n",
              "       [0., 0., 0., ..., 0., 0., 0.],\n",
              "       ...,\n",
              "       [0., 0., 0., ..., 0., 0., 0.],\n",
              "       [0., 0., 0., ..., 0., 0., 0.],\n",
              "       [0., 0., 0., ..., 0., 0., 0.]])"
            ]
          },
          "metadata": {},
          "execution_count": 14
        }
      ]
    },
    {
      "cell_type": "code",
      "metadata": {
        "colab": {
          "base_uri": "https://localhost:8080/"
        },
        "id": "XgySffheYeze",
        "outputId": "867b9fb4-8d31-4dfa-be35-9da252c91dec"
      },
      "source": [
        "model = keras.Sequential([\n",
        "    keras.layers.Dense(10, input_shape=(1024,), activation='sigmoid')\n",
        "])\n",
        "\n",
        "model.compile(optimizer='adam',\n",
        "              loss='sparse_categorical_crossentropy',\n",
        "              metrics=['accuracy'])\n",
        "\n",
        "model.fit(X_train, y_train, epochs=5,)"
      ],
      "execution_count": 16,
      "outputs": [
        {
          "output_type": "stream",
          "name": "stdout",
          "text": [
            "Epoch 1/5\n",
            "425/425 [==============================] - 1s 2ms/step - loss: 0.5292 - accuracy: 0.8590\n",
            "Epoch 2/5\n",
            "425/425 [==============================] - 1s 2ms/step - loss: 0.2406 - accuracy: 0.9360\n",
            "Epoch 3/5\n",
            "425/425 [==============================] - 1s 2ms/step - loss: 0.1932 - accuracy: 0.9501\n",
            "Epoch 4/5\n",
            "425/425 [==============================] - 1s 2ms/step - loss: 0.1706 - accuracy: 0.9542\n",
            "Epoch 5/5\n",
            "425/425 [==============================] - 1s 2ms/step - loss: 0.1562 - accuracy: 0.9581\n"
          ]
        },
        {
          "output_type": "execute_result",
          "data": {
            "text/plain": [
              "<keras.callbacks.History at 0x7f3c68bee710>"
            ]
          },
          "metadata": {},
          "execution_count": 16
        }
      ]
    },
    {
      "cell_type": "code",
      "metadata": {
        "colab": {
          "base_uri": "https://localhost:8080/"
        },
        "id": "5_aP8bkMkPdy",
        "outputId": "105d3f9d-753b-4298-ac8f-a4b8000108f4"
      },
      "source": [
        "model.evaluate(X_train,y_train)"
      ],
      "execution_count": 17,
      "outputs": [
        {
          "output_type": "stream",
          "name": "stdout",
          "text": [
            "425/425 [==============================] - 1s 1ms/step - loss: 0.1427 - accuracy: 0.9635\n"
          ]
        },
        {
          "output_type": "execute_result",
          "data": {
            "text/plain": [
              "[0.14273925125598907, 0.963455855846405]"
            ]
          },
          "metadata": {},
          "execution_count": 17
        }
      ]
    },
    {
      "cell_type": "code",
      "metadata": {
        "colab": {
          "base_uri": "https://localhost:8080/"
        },
        "id": "qLA0CwErlNvr",
        "outputId": "07184525-f0a4-4906-9a7d-065de76c4ba8"
      },
      "source": [
        "model.evaluate(X_test,y_test)"
      ],
      "execution_count": 18,
      "outputs": [
        {
          "output_type": "stream",
          "name": "stdout",
          "text": [
            "107/107 [==============================] - 0s 2ms/step - loss: 0.1658 - accuracy: 0.9512\n"
          ]
        },
        {
          "output_type": "execute_result",
          "data": {
            "text/plain": [
              "[0.16582436859607697, 0.9511764645576477]"
            ]
          },
          "metadata": {},
          "execution_count": 18
        }
      ]
    },
    {
      "cell_type": "markdown",
      "metadata": {
        "id": "wxvnfpbml2gs"
      },
      "source": [
        "Using hidden layer"
      ]
    },
    {
      "cell_type": "code",
      "metadata": {
        "colab": {
          "base_uri": "https://localhost:8080/"
        },
        "id": "ykl4Uw8Zlo85",
        "outputId": "e027081d-3767-4695-814a-1657b82b2214"
      },
      "source": [
        "model = keras.Sequential([\n",
        "    keras.layers.Dense(100, input_shape=(1024,), activation='relu'),\n",
        "    keras.layers.Dense(50, activation='relu'),\n",
        "     keras.layers.Dense(10, activation='sigmoid')\n",
        "])\n",
        "\n",
        "model.compile(optimizer='adam',\n",
        "              loss='sparse_categorical_crossentropy',\n",
        "              metrics=['accuracy'])\n",
        "\n",
        "model.fit(X_train, y_train, epochs=15)"
      ],
      "execution_count": 19,
      "outputs": [
        {
          "output_type": "stream",
          "name": "stdout",
          "text": [
            "Epoch 1/15\n",
            "425/425 [==============================] - 2s 3ms/step - loss: 0.3512 - accuracy: 0.8937\n",
            "Epoch 2/15\n",
            "425/425 [==============================] - 1s 3ms/step - loss: 0.1056 - accuracy: 0.9690\n",
            "Epoch 3/15\n",
            "425/425 [==============================] - 1s 3ms/step - loss: 0.0599 - accuracy: 0.9840\n",
            "Epoch 4/15\n",
            "425/425 [==============================] - 1s 3ms/step - loss: 0.0412 - accuracy: 0.9875\n",
            "Epoch 5/15\n",
            "425/425 [==============================] - 1s 3ms/step - loss: 0.0309 - accuracy: 0.9907\n",
            "Epoch 6/15\n",
            "425/425 [==============================] - 1s 3ms/step - loss: 0.0193 - accuracy: 0.9946\n",
            "Epoch 7/15\n",
            "425/425 [==============================] - 1s 3ms/step - loss: 0.0133 - accuracy: 0.9969\n",
            "Epoch 8/15\n",
            "425/425 [==============================] - 1s 3ms/step - loss: 0.0128 - accuracy: 0.9965\n",
            "Epoch 9/15\n",
            "425/425 [==============================] - 1s 3ms/step - loss: 0.0269 - accuracy: 0.9917\n",
            "Epoch 10/15\n",
            "425/425 [==============================] - 1s 3ms/step - loss: 0.0087 - accuracy: 0.9975\n",
            "Epoch 11/15\n",
            "425/425 [==============================] - 1s 3ms/step - loss: 0.0091 - accuracy: 0.9974\n",
            "Epoch 12/15\n",
            "425/425 [==============================] - 1s 3ms/step - loss: 0.0032 - accuracy: 0.9993\n",
            "Epoch 13/15\n",
            "425/425 [==============================] - 1s 3ms/step - loss: 0.0013 - accuracy: 0.9998\n",
            "Epoch 14/15\n",
            "425/425 [==============================] - 1s 3ms/step - loss: 0.0024 - accuracy: 0.9993\n",
            "Epoch 15/15\n",
            "425/425 [==============================] - 1s 3ms/step - loss: 0.0265 - accuracy: 0.9922\n"
          ]
        },
        {
          "output_type": "execute_result",
          "data": {
            "text/plain": [
              "<keras.callbacks.History at 0x7f3c694e2690>"
            ]
          },
          "metadata": {},
          "execution_count": 19
        }
      ]
    },
    {
      "cell_type": "code",
      "metadata": {
        "colab": {
          "base_uri": "https://localhost:8080/"
        },
        "id": "JisFLfugzH1w",
        "outputId": "ab7acee2-18f8-43e5-de63-62e77ed56a4a"
      },
      "source": [
        "predictions = model.predict(X_test)\n",
        "predictions[0]"
      ],
      "execution_count": 20,
      "outputs": [
        {
          "output_type": "execute_result",
          "data": {
            "text/plain": [
              "array([1.0617584e-05, 8.5580605e-11, 3.0928850e-04, 9.9808860e-01,\n",
              "       1.3378263e-04, 8.9019537e-04, 1.0000000e+00, 9.8221588e-01,\n",
              "       3.2102925e-01, 7.1768463e-03], dtype=float32)"
            ]
          },
          "metadata": {},
          "execution_count": 20
        }
      ]
    },
    {
      "cell_type": "code",
      "metadata": {
        "colab": {
          "base_uri": "https://localhost:8080/"
        },
        "id": "yvv-qlph1eWq",
        "outputId": "a8bd6e6a-1a3d-40d1-ace1-0409edc438ea"
      },
      "source": [
        "num=6\n",
        "print(\"Predicted: \",predictions.argmax(axis=1)[num])\n",
        "print(\"Expected: \",y_test[num])"
      ],
      "execution_count": null,
      "outputs": [
        {
          "output_type": "stream",
          "name": "stdout",
          "text": [
            "Predicted:  4\n",
            "Expected:  4\n"
          ]
        }
      ]
    },
    {
      "cell_type": "code",
      "metadata": {
        "colab": {
          "base_uri": "https://localhost:8080/"
        },
        "id": "OfhYIcb915Sa",
        "outputId": "55c92cb8-27a0-42f7-d592-57919e6d9d35"
      },
      "source": [
        "y_test"
      ],
      "execution_count": null,
      "outputs": [
        {
          "output_type": "execute_result",
          "data": {
            "text/plain": [
              "array([1, 9, 5, ..., 6, 4, 5])"
            ]
          },
          "metadata": {},
          "execution_count": 49
        }
      ]
    },
    {
      "cell_type": "code",
      "metadata": {
        "colab": {
          "base_uri": "https://localhost:8080/",
          "height": 374
        },
        "id": "7guCu03Kld8C",
        "outputId": "b0820410-dd65-4e46-bcf2-acfb4bfd722c"
      },
      "source": [
        "img = cv2.imread(\"/content/drive/MyDrive/Colab Notebooks/Project/Dataset/print1.jpg\",cv2.IMREAD_GRAYSCALE)\n",
        "plt.matshow(img)\n",
        "img = (img.reshape((1,28*28)))/255\n",
        "p = model.predict(img)\n",
        "p.argmax(axis=1)[0]"
      ],
      "execution_count": null,
      "outputs": [
        {
          "output_type": "error",
          "ename": "ValueError",
          "evalue": "ignored",
          "traceback": [
            "\u001b[0;31m---------------------------------------------------------------------------\u001b[0m",
            "\u001b[0;31mValueError\u001b[0m                                Traceback (most recent call last)",
            "\u001b[0;32m<ipython-input-22-c7d335219fbf>\u001b[0m in \u001b[0;36m<module>\u001b[0;34m()\u001b[0m\n\u001b[1;32m      1\u001b[0m \u001b[0mimg\u001b[0m \u001b[0;34m=\u001b[0m \u001b[0mcv2\u001b[0m\u001b[0;34m.\u001b[0m\u001b[0mimread\u001b[0m\u001b[0;34m(\u001b[0m\u001b[0;34m\"/content/drive/MyDrive/Colab Notebooks/Project/Dataset/print1.jpg\"\u001b[0m\u001b[0;34m,\u001b[0m\u001b[0mcv2\u001b[0m\u001b[0;34m.\u001b[0m\u001b[0mIMREAD_GRAYSCALE\u001b[0m\u001b[0;34m)\u001b[0m\u001b[0;34m\u001b[0m\u001b[0;34m\u001b[0m\u001b[0m\n\u001b[0;32m----> 2\u001b[0;31m \u001b[0mplt\u001b[0m\u001b[0;34m.\u001b[0m\u001b[0mmatshow\u001b[0m\u001b[0;34m(\u001b[0m\u001b[0mimg\u001b[0m\u001b[0;34m)\u001b[0m\u001b[0;34m\u001b[0m\u001b[0;34m\u001b[0m\u001b[0m\n\u001b[0m\u001b[1;32m      3\u001b[0m \u001b[0mimg\u001b[0m \u001b[0;34m=\u001b[0m \u001b[0;34m(\u001b[0m\u001b[0mimg\u001b[0m\u001b[0;34m.\u001b[0m\u001b[0mreshape\u001b[0m\u001b[0;34m(\u001b[0m\u001b[0;34m(\u001b[0m\u001b[0;36m1\u001b[0m\u001b[0;34m,\u001b[0m\u001b[0;36m28\u001b[0m\u001b[0;34m*\u001b[0m\u001b[0;36m28\u001b[0m\u001b[0;34m)\u001b[0m\u001b[0;34m)\u001b[0m\u001b[0;34m)\u001b[0m\u001b[0;34m/\u001b[0m\u001b[0;36m255\u001b[0m\u001b[0;34m\u001b[0m\u001b[0;34m\u001b[0m\u001b[0m\n\u001b[1;32m      4\u001b[0m \u001b[0mp\u001b[0m \u001b[0;34m=\u001b[0m \u001b[0mmodel\u001b[0m\u001b[0;34m.\u001b[0m\u001b[0mpredict\u001b[0m\u001b[0;34m(\u001b[0m\u001b[0mimg\u001b[0m\u001b[0;34m)\u001b[0m\u001b[0;34m\u001b[0m\u001b[0;34m\u001b[0m\u001b[0m\n\u001b[1;32m      5\u001b[0m \u001b[0mp\u001b[0m\u001b[0;34m.\u001b[0m\u001b[0margmax\u001b[0m\u001b[0;34m(\u001b[0m\u001b[0maxis\u001b[0m\u001b[0;34m=\u001b[0m\u001b[0;36m1\u001b[0m\u001b[0;34m)\u001b[0m\u001b[0;34m[\u001b[0m\u001b[0;36m0\u001b[0m\u001b[0;34m]\u001b[0m\u001b[0;34m\u001b[0m\u001b[0;34m\u001b[0m\u001b[0m\n",
            "\u001b[0;32m/usr/local/lib/python3.7/dist-packages/matplotlib/pyplot.py\u001b[0m in \u001b[0;36mmatshow\u001b[0;34m(A, fignum, **kwargs)\u001b[0m\n\u001b[1;32m   2112\u001b[0m         \u001b[0;31m# Extract actual aspect ratio of array and make appropriately sized\u001b[0m\u001b[0;34m\u001b[0m\u001b[0;34m\u001b[0m\u001b[0;34m\u001b[0m\u001b[0m\n\u001b[1;32m   2113\u001b[0m         \u001b[0;31m# figure.\u001b[0m\u001b[0;34m\u001b[0m\u001b[0;34m\u001b[0m\u001b[0;34m\u001b[0m\u001b[0m\n\u001b[0;32m-> 2114\u001b[0;31m         \u001b[0mfig\u001b[0m \u001b[0;34m=\u001b[0m \u001b[0mfigure\u001b[0m\u001b[0;34m(\u001b[0m\u001b[0mfignum\u001b[0m\u001b[0;34m,\u001b[0m \u001b[0mfigsize\u001b[0m\u001b[0;34m=\u001b[0m\u001b[0mfigaspect\u001b[0m\u001b[0;34m(\u001b[0m\u001b[0mA\u001b[0m\u001b[0;34m)\u001b[0m\u001b[0;34m)\u001b[0m\u001b[0;34m\u001b[0m\u001b[0;34m\u001b[0m\u001b[0m\n\u001b[0m\u001b[1;32m   2115\u001b[0m         \u001b[0max\u001b[0m \u001b[0;34m=\u001b[0m \u001b[0mfig\u001b[0m\u001b[0;34m.\u001b[0m\u001b[0madd_axes\u001b[0m\u001b[0;34m(\u001b[0m\u001b[0;34m[\u001b[0m\u001b[0;36m0.15\u001b[0m\u001b[0;34m,\u001b[0m \u001b[0;36m0.09\u001b[0m\u001b[0;34m,\u001b[0m \u001b[0;36m0.775\u001b[0m\u001b[0;34m,\u001b[0m \u001b[0;36m0.775\u001b[0m\u001b[0;34m]\u001b[0m\u001b[0;34m)\u001b[0m\u001b[0;34m\u001b[0m\u001b[0;34m\u001b[0m\u001b[0m\n\u001b[1;32m   2116\u001b[0m     \u001b[0mim\u001b[0m \u001b[0;34m=\u001b[0m \u001b[0max\u001b[0m\u001b[0;34m.\u001b[0m\u001b[0mmatshow\u001b[0m\u001b[0;34m(\u001b[0m\u001b[0mA\u001b[0m\u001b[0;34m,\u001b[0m \u001b[0;34m**\u001b[0m\u001b[0mkwargs\u001b[0m\u001b[0;34m)\u001b[0m\u001b[0;34m\u001b[0m\u001b[0;34m\u001b[0m\u001b[0m\n",
            "\u001b[0;32m/usr/local/lib/python3.7/dist-packages/matplotlib/figure.py\u001b[0m in \u001b[0;36mfigaspect\u001b[0;34m(arg)\u001b[0m\n\u001b[1;32m   2761\u001b[0m     \u001b[0;31m# Extract the aspect ratio of the array\u001b[0m\u001b[0;34m\u001b[0m\u001b[0;34m\u001b[0m\u001b[0;34m\u001b[0m\u001b[0m\n\u001b[1;32m   2762\u001b[0m     \u001b[0;32mif\u001b[0m \u001b[0misarray\u001b[0m\u001b[0;34m:\u001b[0m\u001b[0;34m\u001b[0m\u001b[0;34m\u001b[0m\u001b[0m\n\u001b[0;32m-> 2763\u001b[0;31m         \u001b[0mnr\u001b[0m\u001b[0;34m,\u001b[0m \u001b[0mnc\u001b[0m \u001b[0;34m=\u001b[0m \u001b[0marg\u001b[0m\u001b[0;34m.\u001b[0m\u001b[0mshape\u001b[0m\u001b[0;34m[\u001b[0m\u001b[0;34m:\u001b[0m\u001b[0;36m2\u001b[0m\u001b[0;34m]\u001b[0m\u001b[0;34m\u001b[0m\u001b[0;34m\u001b[0m\u001b[0m\n\u001b[0m\u001b[1;32m   2764\u001b[0m         \u001b[0marr_ratio\u001b[0m \u001b[0;34m=\u001b[0m \u001b[0mnr\u001b[0m \u001b[0;34m/\u001b[0m \u001b[0mnc\u001b[0m\u001b[0;34m\u001b[0m\u001b[0;34m\u001b[0m\u001b[0m\n\u001b[1;32m   2765\u001b[0m     \u001b[0;32melse\u001b[0m\u001b[0;34m:\u001b[0m\u001b[0;34m\u001b[0m\u001b[0;34m\u001b[0m\u001b[0m\n",
            "\u001b[0;31mValueError\u001b[0m: not enough values to unpack (expected 2, got 0)"
          ]
        }
      ]
    },
    {
      "cell_type": "code",
      "metadata": {
        "colab": {
          "base_uri": "https://localhost:8080/"
        },
        "id": "ytHk7Bg2ERJy",
        "outputId": "3f4fc3be-6e1d-4433-e0ae-e7eb85c9e0e8"
      },
      "source": [
        "model.get_weights()"
      ],
      "execution_count": null,
      "outputs": [
        {
          "output_type": "execute_result",
          "data": {
            "text/plain": [
              "[array([[-0.0842783 ,  0.05893093, -0.02096999, ..., -0.00232792,\n",
              "         -0.07655926,  0.03184531],\n",
              "        [ 0.0313442 ,  0.0832223 , -0.06022548, ...,  0.11073768,\n",
              "         -0.00694748,  0.0585062 ],\n",
              "        [-0.00364434,  0.02477206,  0.09514723, ...,  0.03578733,\n",
              "         -0.04193212, -0.02389897],\n",
              "        ...,\n",
              "        [-0.07227679,  0.03340551,  0.01679436, ...,  0.04368691,\n",
              "         -0.09582759,  0.00521188],\n",
              "        [-0.03275241, -0.00823263, -0.02432072, ...,  0.03706825,\n",
              "         -0.0361196 ,  0.07127643],\n",
              "        [-0.12781654, -0.04154991, -0.02765792, ...,  0.02904124,\n",
              "         -0.0984021 ,  0.04043305]], dtype=float32),\n",
              " array([-0.05515109,  0.01441041, -0.01083849,  0.03560713,  0.00828922,\n",
              "        -0.01595252, -0.01749647,  0.04557189, -0.04586743,  0.03545048],\n",
              "       dtype=float32)]"
            ]
          },
          "metadata": {},
          "execution_count": 24
        }
      ]
    },
    {
      "cell_type": "code",
      "metadata": {
        "id": "c2Fh_E52FKn1"
      },
      "source": [
        "model.save(\"/content/drive/MyDrive/Colab Notebooks/Project/Dataset/models/digits.h5\")\n",
        "#tf.saved_model.save(model,\"/content/drive/MyDrive/Colab Notebooks/Project/Dataset/models/\")"
      ],
      "execution_count": 21,
      "outputs": []
    }
  ]
}